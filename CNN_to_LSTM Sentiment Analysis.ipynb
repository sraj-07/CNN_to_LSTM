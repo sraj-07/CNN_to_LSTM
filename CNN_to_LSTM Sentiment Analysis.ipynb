{
 "cells": [
  {
   "cell_type": "code",
   "execution_count": 1,
   "metadata": {},
   "outputs": [],
   "source": [
    "import torch\n",
    "from torchtext import data\n",
    "from torchtext import datasets\n",
    "import random\n",
    "\n",
    "\n",
    "SEED = 1234\n",
    "\n",
    "torch.manual_seed(SEED)\n",
    "torch.backends.cudnn.deterministic = True\n",
    "\n",
    "TEXT = data.Field(tokenize = 'spacy')\n",
    "LABEL = data.LabelField(dtype = torch.float)\n",
    "\n",
    "train_data, test_data = datasets.IMDB.splits(TEXT, LABEL)\n",
    "train_data, val_data = train_data.split(random_state = random.seed(SEED))"
   ]
  },
  {
   "cell_type": "code",
   "execution_count": 15,
   "metadata": {},
   "outputs": [],
   "source": [
    "MAX_VOCAB_SIZE = 25_000\n",
    "\n",
    "TEXT.build_vocab(train_data,max_size = MAX_VOCAB_SIZE,vectors = 'glove.6B.100d', unk_init = torch.Tensor.normal_)\n",
    "LABEL.build_vocab(train_data)"
   ]
  },
  {
   "cell_type": "code",
   "execution_count": 16,
   "metadata": {},
   "outputs": [],
   "source": [
    "BATCH_SIZE = 64\n",
    "\n",
    "device = torch.device(\"cuda\" if torch.cuda.is_available() else \"cpu\")\n",
    "\n",
    "train_iterator, val_iteraor, test_iterator = data.BucketIterator.splits((train_data, val_data, test_data), device = device, batch_size = BATCH_SIZE)"
   ]
  },
  {
   "cell_type": "code",
   "execution_count": 17,
   "metadata": {},
   "outputs": [
    {
     "name": "stdout",
     "output_type": "stream",
     "text": [
      "torch.Size([932, 64])\n"
     ]
    }
   ],
   "source": [
    "for batch in train_iterator:\n",
    "    print(batch.text.size())\n",
    "    break"
   ]
  },
  {
   "cell_type": "code",
   "execution_count": 145,
   "metadata": {},
   "outputs": [],
   "source": [
    "import torch.nn as nn\n",
    "import torch.nn.functional as F\n",
    "class CNN_LSTM(nn.Module):\n",
    "    def __init__(self, input_dim,embedding_dim,n_filters, filter_sizes, \n",
    "                 output_dim, hidden_dim, n_layers, bidirectional, dropout, pad_idx):\n",
    "        \n",
    "        super().__init__()\n",
    "        \n",
    "        self.embedding = nn.Embedding(input_dim, embedding_dim, padding_idx = pad_idx)\n",
    "        \n",
    "        self.convs = nn.ModuleList([nn.Conv2d(in_channels = 1, out_channels = n_filters, kernel_size = (f, embedding_dim)) for f in filter_sizes])\n",
    "        \n",
    "        self.rnn = nn.LSTM(embedding_dim,hidden_dim, num_layers = n_layers,bidirectional = bidirectional, dropout = dropout)\n",
    "        \n",
    "        self.fc = nn.Linear(hidden_dim*2, output_dim)\n",
    "        \n",
    "        self.dropout = nn.Dropout(dropout)\n",
    "        \n",
    "    def forward(self, text):\n",
    "        \n",
    "        #[sent len , batch size ]\n",
    "        \n",
    "        text = text.permute(1,0)\n",
    "        \n",
    "        #[batch size, sent len]\n",
    "        \n",
    "        embedded = self.dropout(self.embedding(text))\n",
    "        \n",
    "        #[batch size, sent len, emb dim]\n",
    "        \n",
    "        embedded = embedded.unsqueeze(1)\n",
    "        \n",
    "        #[batch size, 1,sent len, emb dim]\n",
    "        \n",
    "        conved = [F.relu(conv(embedded)).squeeze(3) for conv in self.convs]\n",
    "        \n",
    "        #conved[n] = [batch size, sent len - filter_sizes[n] + 1]\n",
    "        \n",
    "        pooled = [F.max_pool1d(conv, conv.shape[2]).squeeze(2) for conv in conved]\n",
    "        \n",
    "        #pooled_n = [batch size, n_filters]\n",
    "        pooled = torch.stack(pooled)\n",
    "        \n",
    "        #pooled = [1, batch size, n_filters]\n",
    "        packed_output, (hidden, cell) = self.rnn(pooled)\n",
    "        \n",
    "        #hidden = [num layers * num directions, batch size, hid dim]\n",
    "        #cell = [num layers * num directions, batch size, hid dim]\n",
    "        \n",
    "        hidden = self.dropout(torch.cat((hidden[-2,:,:],hidden[-1,:,:]), dim = 1))\n",
    "        \n",
    "        #hidden = [batch size, hid_dim*num_directions]\n",
    "        \n",
    "        return(self.fc(hidden))"
   ]
  },
  {
   "cell_type": "code",
   "execution_count": 168,
   "metadata": {},
   "outputs": [],
   "source": [
    "INPUT_DIM = len(TEXT.vocab)\n",
    "EMBEDDING_DIM = 250\n",
    "N_FILTERS = 250\n",
    "FILTER_SIZES = [3, 4, 5, 6]\n",
    "OUTPUT_DIM = 1\n",
    "HIDDEN_DIM = 256\n",
    "N_LAYERS = 4\n",
    "BIDIRECTIONAL = True\n",
    "DROPOUT = 0.6\n",
    "PAD_IDX = TEXT.vocab.stoi[TEXT.pad_token]\n",
    "\n",
    "model = CNN_LSTM(INPUT_DIM, EMBEDDING_DIM, N_FILTERS, FILTER_SIZES,\n",
    "                OUTPUT_DIM, HIDDEN_DIM, N_LAYERS, BIDIRECTIONAL, DROPOUT, PAD_IDX)"
   ]
  },
  {
   "cell_type": "code",
   "execution_count": 169,
   "metadata": {},
   "outputs": [],
   "source": [
    "def count_parameters(model):\n",
    "    print(sum(p.numel() for p in model.parameters() if p.requires_grad))"
   ]
  },
  {
   "cell_type": "code",
   "execution_count": 170,
   "metadata": {},
   "outputs": [
    {
     "name": "stdout",
     "output_type": "stream",
     "text": [
      "13148277\n"
     ]
    }
   ],
   "source": [
    "count_parameters(model)"
   ]
  },
  {
   "cell_type": "code",
   "execution_count": 171,
   "metadata": {},
   "outputs": [],
   "source": [
    "import torch.optim as optim\n",
    "\n",
    "optimizer = optim.Adam(model.parameters())\n",
    "\n",
    "criterion = nn.BCEWithLogitsLoss()"
   ]
  },
  {
   "cell_type": "code",
   "execution_count": 172,
   "metadata": {},
   "outputs": [],
   "source": [
    "model = model.to(device)\n",
    "criterion = criterion.to(device)"
   ]
  },
  {
   "cell_type": "code",
   "execution_count": 173,
   "metadata": {},
   "outputs": [],
   "source": [
    "def binary_accuracy(preds, y):\n",
    "    \n",
    "    rounded = torch.round(torch.sigmoid(preds))\n",
    "    \n",
    "    correct = (rounded == y).float()\n",
    "    \n",
    "    acc = correct.sum()/len(correct)\n",
    "    \n",
    "    return(acc)"
   ]
  },
  {
   "cell_type": "code",
   "execution_count": 174,
   "metadata": {},
   "outputs": [],
   "source": [
    "def train(model, iterator, optimizer, criterion):\n",
    "    \n",
    "    epoch_loss = 0\n",
    "    epoch_acc = 0\n",
    "    \n",
    "    model.train()\n",
    "    \n",
    "    for batch in iterator:\n",
    "        \n",
    "        optimizer.zero_grad()\n",
    "        \n",
    "        predictions = model(batch.text).squeeze(1)\n",
    "        \n",
    "        loss = criterion(predictions, batch.label)\n",
    "        \n",
    "        acc = binary_accuracy(predictions, batch.label)\n",
    "        \n",
    "        loss.backward()\n",
    "        \n",
    "        optimizer.step()\n",
    "        \n",
    "        epoch_loss += loss.item()\n",
    "        epoch_acc += acc.item()\n",
    "        \n",
    "    return(epoch_loss/len(iterator), epoch_acc/len(iterator))"
   ]
  },
  {
   "cell_type": "code",
   "execution_count": 175,
   "metadata": {},
   "outputs": [],
   "source": [
    "def evaluate(model, iterator, criterion):\n",
    "    \n",
    "    epoch_loss = 0\n",
    "    epoch_acc = 0\n",
    "    \n",
    "    model.eval()\n",
    "    \n",
    "    with torch.no_grad():\n",
    "        for batch in iterator:\n",
    "            \n",
    "            predictions = model(batch.text).squeeze(1)\n",
    "            \n",
    "            loss = criterion(predictions, batch.label)\n",
    "            \n",
    "            acc = binary_accuracy(predictions, batch.label)\n",
    "            \n",
    "            epoch_loss += loss.item()\n",
    "            epoch_acc += acc.item()\n",
    "            \n",
    "        return(epoch_loss/len(iterator), epoch_acc/len(iterator))"
   ]
  },
  {
   "cell_type": "code",
   "execution_count": 176,
   "metadata": {},
   "outputs": [],
   "source": [
    "import time\n",
    "\n",
    "def elapsed_time(start_time,end_time):\n",
    "    elapsed_time = end_time-start_time\n",
    "    elapsed_mins = int(elapsed_time/60)\n",
    "    elapsed_secs = int(elapsed_time - elapsed_mins*60)\n",
    "    \n",
    "    return(elapsed_mins, elapsed_secs)"
   ]
  },
  {
   "cell_type": "code",
   "execution_count": 178,
   "metadata": {},
   "outputs": [
    {
     "name": "stdout",
     "output_type": "stream",
     "text": [
      "Epoch: 01 | Epoch Time: 0m 51s\n",
      "\tTrain Loss: 0.567 | Train Acc: 71.06%\n",
      "\t Val. Loss: 0.522 |  Val. Acc: 75.42%\n",
      "Epoch: 02 | Epoch Time: 0m 51s\n",
      "\tTrain Loss: 0.484 | Train Acc: 77.82%\n",
      "\t Val. Loss: 0.456 |  Val. Acc: 80.87%\n",
      "Epoch: 03 | Epoch Time: 0m 51s\n",
      "\tTrain Loss: 0.423 | Train Acc: 81.34%\n",
      "\t Val. Loss: 0.439 |  Val. Acc: 82.91%\n",
      "Epoch: 04 | Epoch Time: 0m 50s\n",
      "\tTrain Loss: 0.374 | Train Acc: 84.36%\n",
      "\t Val. Loss: 0.399 |  Val. Acc: 84.88%\n",
      "Epoch: 05 | Epoch Time: 0m 51s\n",
      "\tTrain Loss: 0.344 | Train Acc: 86.02%\n",
      "\t Val. Loss: 0.456 |  Val. Acc: 85.52%\n",
      "Epoch: 06 | Epoch Time: 0m 51s\n",
      "\tTrain Loss: 0.305 | Train Acc: 87.91%\n",
      "\t Val. Loss: 0.376 |  Val. Acc: 85.79%\n",
      "Epoch: 07 | Epoch Time: 0m 51s\n",
      "\tTrain Loss: 0.290 | Train Acc: 88.81%\n",
      "\t Val. Loss: 0.360 |  Val. Acc: 86.07%\n",
      "Epoch: 08 | Epoch Time: 0m 51s\n",
      "\tTrain Loss: 0.273 | Train Acc: 89.67%\n",
      "\t Val. Loss: 0.345 |  Val. Acc: 86.98%\n",
      "Epoch: 09 | Epoch Time: 0m 50s\n",
      "\tTrain Loss: 0.260 | Train Acc: 89.90%\n",
      "\t Val. Loss: 0.339 |  Val. Acc: 87.21%\n",
      "Epoch: 10 | Epoch Time: 0m 51s\n",
      "\tTrain Loss: 0.236 | Train Acc: 91.23%\n",
      "\t Val. Loss: 0.362 |  Val. Acc: 87.42%\n"
     ]
    }
   ],
   "source": [
    "N_EPOCHS = 10\n",
    "best_valid_loss = float('inf')\n",
    "\n",
    "for epoch in range(N_EPOCHS):\n",
    "    \n",
    "    start_time = time.time()\n",
    "    \n",
    "    train_loss, train_acc = train(model,train_iterator,optimizer,criterion)\n",
    "    val_loss, val_acc = evaluate(model, val_iteraor, criterion)\n",
    "    \n",
    "    end_time = time.time()\n",
    "    \n",
    "    epoch_mins, epoch_secs = elapsed_time(start_time,end_time)\n",
    "    \n",
    "    if val_loss<best_valid_loss:\n",
    "        best_valid_loss = val_loss\n",
    "        torch.save(model.state_dict(),'tut6-model.pt')\n",
    "        \n",
    "    print(f'Epoch: {epoch+1:02} | Epoch Time: {epoch_mins}m {epoch_secs}s')\n",
    "    print(f'\\tTrain Loss: {train_loss:.3f} | Train Acc: {train_acc*100:.2f}%')\n",
    "    print(f'\\t Val. Loss: {val_loss:.3f} |  Val. Acc: {val_acc*100:.2f}%')"
   ]
  },
  {
   "cell_type": "code",
   "execution_count": 179,
   "metadata": {},
   "outputs": [
    {
     "name": "stdout",
     "output_type": "stream",
     "text": [
      "Test Loss: 0.326 | Test Acc: 87.50%\n"
     ]
    }
   ],
   "source": [
    "model.load_state_dict(torch.load('tut6-model.pt'))\n",
    "\n",
    "test_loss, test_acc = evaluate(model, test_iterator, criterion)\n",
    "\n",
    "print(f'Test Loss: {test_loss:.3f} | Test Acc: {test_acc*100:.2f}%')"
   ]
  },
  {
   "cell_type": "code",
   "execution_count": null,
   "metadata": {},
   "outputs": [],
   "source": []
  }
 ],
 "metadata": {
  "kernelspec": {
   "display_name": "Python 3",
   "language": "python",
   "name": "python3"
  },
  "language_info": {
   "codemirror_mode": {
    "name": "ipython",
    "version": 3
   },
   "file_extension": ".py",
   "mimetype": "text/x-python",
   "name": "python",
   "nbconvert_exporter": "python",
   "pygments_lexer": "ipython3",
   "version": "3.7.3"
  }
 },
 "nbformat": 4,
 "nbformat_minor": 4
}
